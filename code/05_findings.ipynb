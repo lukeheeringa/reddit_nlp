{
 "cells": [
  {
   "cell_type": "markdown",
   "id": "permanent-warren",
   "metadata": {},
   "source": [
    "#### Step 5: Findings"
   ]
  },
  {
   "cell_type": "markdown",
   "id": "chief-cleanup",
   "metadata": {},
   "source": [
    "With our best model identified, I can now explore deeper into how it works: the importance of features, the samples it most easily classifies, the samples it's least able to classify, as well as plot a confusion matrix to see where the predictions are landing."
   ]
  },
  {
   "cell_type": "code",
   "execution_count": 1,
   "id": "cardiovascular-event",
   "metadata": {},
   "outputs": [],
   "source": [
    "import pandas as pd\n",
    "import numpy as np\n",
    "\n",
    "from sklearn.model_selection import train_test_split\n",
    "from sklearn.pipeline import Pipeline\n",
    "from sklearn.preprocessing import StandardScaler\n",
    "from sklearn.feature_extraction.text import CountVectorizer\n",
    "from sklearn.linear_model import LogisticRegression\n",
    "from sklearn.metrics import plot_confusion_matrix\n",
    "from nltk import word_tokenize          \n",
    "from nltk.stem import WordNetLemmatizer"
   ]
  },
  {
   "cell_type": "code",
   "execution_count": 2,
   "id": "personalized-finger",
   "metadata": {},
   "outputs": [],
   "source": [
    "data = pd.read_csv('../data/cleaned_posts.csv')"
   ]
  },
  {
   "cell_type": "code",
   "execution_count": 3,
   "id": "liberal-norfolk",
   "metadata": {},
   "outputs": [],
   "source": [
    "X = data['title']\n",
    "y = data['subreddit']"
   ]
  },
  {
   "cell_type": "markdown",
   "id": "refined-symposium",
   "metadata": {},
   "source": [
    "The train/test split will be set to be identical to the modeling phase."
   ]
  },
  {
   "cell_type": "code",
   "execution_count": 4,
   "id": "flexible-transcription",
   "metadata": {},
   "outputs": [],
   "source": [
    "X_train, X_test, y_train, y_test = train_test_split(X, y, stratify=y, random_state=1120)"
   ]
  },
  {
   "cell_type": "markdown",
   "id": "regular-bottle",
   "metadata": {},
   "source": [
    "The tokenizer and classifier need to be re-instantiated and fit."
   ]
  },
  {
   "cell_type": "code",
   "execution_count": 5,
   "id": "social-craps",
   "metadata": {},
   "outputs": [],
   "source": [
    "class LemmaTokenizer(object):\n",
    "    def __init__(self):\n",
    "        self.wnl = WordNetLemmatizer()\n",
    "    def __call__(self, articles):\n",
    "        return [self.wnl.lemmatize(t) for t in word_tokenize(articles)]"
   ]
  },
  {
   "cell_type": "code",
   "execution_count": 6,
   "id": "martial-solution",
   "metadata": {},
   "outputs": [],
   "source": [
    "cvect = CountVectorizer(ngram_range=(1, 2), stop_words='english', min_df=2, tokenizer=LemmaTokenizer())"
   ]
  },
  {
   "cell_type": "code",
   "execution_count": 7,
   "id": "overhead-hours",
   "metadata": {},
   "outputs": [],
   "source": [
    "lr = LogisticRegression(solver='saga', penalty='l1', max_iter=100, C=0.05)"
   ]
  },
  {
   "cell_type": "code",
   "execution_count": 8,
   "id": "brown-fence",
   "metadata": {},
   "outputs": [
    {
     "name": "stderr",
     "output_type": "stream",
     "text": [
      "/opt/anaconda3/envs/dsi/lib/python3.7/site-packages/sklearn/feature_extraction/text.py:386: UserWarning: Your stop_words may be inconsistent with your preprocessing. Tokenizing the stop words generated tokens ['ha', 'le', 'u', 'wa'] not in stop_words.\n",
      "  'stop_words.' % sorted(inconsistent))\n",
      "/opt/anaconda3/envs/dsi/lib/python3.7/site-packages/sklearn/linear_model/_sag.py:330: ConvergenceWarning: The max_iter was reached which means the coef_ did not converge\n",
      "  \"the coef_ did not converge\", ConvergenceWarning)\n"
     ]
    },
    {
     "data": {
      "text/plain": [
       "Pipeline(steps=[('cvect',\n",
       "                 CountVectorizer(min_df=2, ngram_range=(1, 2),\n",
       "                                 stop_words='english',\n",
       "                                 tokenizer=<__main__.LemmaTokenizer object at 0x10d050c10>)),\n",
       "                ('sscaler', StandardScaler(with_mean=False)),\n",
       "                ('lr',\n",
       "                 LogisticRegression(C=0.05, penalty='l1', solver='saga'))])"
      ]
     },
     "execution_count": 8,
     "metadata": {},
     "output_type": "execute_result"
    }
   ],
   "source": [
    "logreg_pipe = Pipeline([\n",
    "    ('cvect', cvect),\n",
    "    ('sscaler', StandardScaler(with_mean=False)),\n",
    "    ('lr', lr)\n",
    "])\n",
    "\n",
    "logreg_pipe.fit(X_train, y_train)"
   ]
  },
  {
   "cell_type": "markdown",
   "id": "suburban-milan",
   "metadata": {},
   "source": [
    "Our training accuracy score:"
   ]
  },
  {
   "cell_type": "code",
   "execution_count": 9,
   "id": "cellular-roommate",
   "metadata": {},
   "outputs": [
    {
     "data": {
      "text/plain": [
       "0.961794500723589"
      ]
     },
     "execution_count": 9,
     "metadata": {},
     "output_type": "execute_result"
    }
   ],
   "source": [
    "logreg_pipe.score(X_train, y_train)"
   ]
  },
  {
   "cell_type": "markdown",
   "id": "prescription-idaho",
   "metadata": {},
   "source": [
    "Our test accuracy score:"
   ]
  },
  {
   "cell_type": "code",
   "execution_count": 10,
   "id": "alpine-practitioner",
   "metadata": {},
   "outputs": [
    {
     "data": {
      "text/plain": [
       "0.9210069444444444"
      ]
     },
     "execution_count": 10,
     "metadata": {},
     "output_type": "execute_result"
    }
   ],
   "source": [
    "logreg_pipe.score(X_test, y_test)"
   ]
  },
  {
   "cell_type": "markdown",
   "id": "noble-sacramento",
   "metadata": {},
   "source": [
    "Next I can look at the feature importances by looking at the highest coefficients (those that increase the log probability of being from r/tea the most) and the lowest coefficients (those that increase the log probability of being from r/Coffee the most)."
   ]
  },
  {
   "cell_type": "code",
   "execution_count": 11,
   "id": "identified-divorce",
   "metadata": {},
   "outputs": [],
   "source": [
    "feature_coefs = pd.DataFrame({'coef' : lr.coef_[0]}, index=cvect.get_feature_names())"
   ]
  },
  {
   "cell_type": "code",
   "execution_count": 12,
   "id": "august-prairie",
   "metadata": {},
   "outputs": [
    {
     "data": {
      "text/html": [
       "<div>\n",
       "<style scoped>\n",
       "    .dataframe tbody tr th:only-of-type {\n",
       "        vertical-align: middle;\n",
       "    }\n",
       "\n",
       "    .dataframe tbody tr th {\n",
       "        vertical-align: top;\n",
       "    }\n",
       "\n",
       "    .dataframe thead th {\n",
       "        text-align: right;\n",
       "    }\n",
       "</style>\n",
       "<table border=\"1\" class=\"dataframe\">\n",
       "  <thead>\n",
       "    <tr style=\"text-align: right;\">\n",
       "      <th></th>\n",
       "      <th>coef</th>\n",
       "    </tr>\n",
       "  </thead>\n",
       "  <tbody>\n",
       "    <tr>\n",
       "      <th>tea</th>\n",
       "      <td>1.074816</td>\n",
       "    </tr>\n",
       "    <tr>\n",
       "      <th>teapot</th>\n",
       "      <td>0.259179</td>\n",
       "    </tr>\n",
       "    <tr>\n",
       "      <th>matcha</th>\n",
       "      <td>0.232596</td>\n",
       "    </tr>\n",
       "    <tr>\n",
       "      <th>tea ?</th>\n",
       "      <td>0.204695</td>\n",
       "    </tr>\n",
       "    <tr>\n",
       "      <th>oolong</th>\n",
       "      <td>0.181656</td>\n",
       "    </tr>\n",
       "    <tr>\n",
       "      <th>chai</th>\n",
       "      <td>0.120666</td>\n",
       "    </tr>\n",
       "    <tr>\n",
       "      <th>leaf</th>\n",
       "      <td>0.119587</td>\n",
       "    </tr>\n",
       "    <tr>\n",
       "      <th>green</th>\n",
       "      <td>0.110783</td>\n",
       "    </tr>\n",
       "    <tr>\n",
       "      <th>gaiwan</th>\n",
       "      <td>0.098911</td>\n",
       "    </tr>\n",
       "    <tr>\n",
       "      <th>set</th>\n",
       "      <td>0.089228</td>\n",
       "    </tr>\n",
       "  </tbody>\n",
       "</table>\n",
       "</div>"
      ],
      "text/plain": [
       "            coef\n",
       "tea     1.074816\n",
       "teapot  0.259179\n",
       "matcha  0.232596\n",
       "tea ?   0.204695\n",
       "oolong  0.181656\n",
       "chai    0.120666\n",
       "leaf    0.119587\n",
       "green   0.110783\n",
       "gaiwan  0.098911\n",
       "set     0.089228"
      ]
     },
     "execution_count": 12,
     "metadata": {},
     "output_type": "execute_result"
    }
   ],
   "source": [
    "feature_coefs.sort_values(by='coef', ascending=False).head(10)"
   ]
  },
  {
   "cell_type": "markdown",
   "id": "organizational-effort",
   "metadata": {},
   "source": [
    "The words appearing aren't surprising--variations of tea, types of tea, etc. The only token of more than one word is \"tea ?\" indicating that there may be a significant amount of tea-related questions on r/tea."
   ]
  },
  {
   "cell_type": "code",
   "execution_count": 13,
   "id": "capital-cycle",
   "metadata": {},
   "outputs": [
    {
     "data": {
      "text/html": [
       "<div>\n",
       "<style scoped>\n",
       "    .dataframe tbody tr th:only-of-type {\n",
       "        vertical-align: middle;\n",
       "    }\n",
       "\n",
       "    .dataframe tbody tr th {\n",
       "        vertical-align: top;\n",
       "    }\n",
       "\n",
       "    .dataframe thead th {\n",
       "        text-align: right;\n",
       "    }\n",
       "</style>\n",
       "<table border=\"1\" class=\"dataframe\">\n",
       "  <thead>\n",
       "    <tr style=\"text-align: right;\">\n",
       "      <th></th>\n",
       "      <th>coef</th>\n",
       "    </tr>\n",
       "  </thead>\n",
       "  <tbody>\n",
       "    <tr>\n",
       "      <th>coffee</th>\n",
       "      <td>-0.795527</td>\n",
       "    </tr>\n",
       "    <tr>\n",
       "      <th>grinder</th>\n",
       "      <td>-0.344137</td>\n",
       "    </tr>\n",
       "    <tr>\n",
       "      <th>espresso</th>\n",
       "      <td>-0.253348</td>\n",
       "    </tr>\n",
       "    <tr>\n",
       "      <th>bean</th>\n",
       "      <td>-0.205271</td>\n",
       "    </tr>\n",
       "    <tr>\n",
       "      <th>v60</th>\n",
       "      <td>-0.193805</td>\n",
       "    </tr>\n",
       "    <tr>\n",
       "      <th>machine</th>\n",
       "      <td>-0.192044</td>\n",
       "    </tr>\n",
       "    <tr>\n",
       "      <th>pour</th>\n",
       "      <td>-0.176446</td>\n",
       "    </tr>\n",
       "    <tr>\n",
       "      <th>aeropress</th>\n",
       "      <td>-0.151722</td>\n",
       "    </tr>\n",
       "    <tr>\n",
       "      <th>moccamaster</th>\n",
       "      <td>-0.139646</td>\n",
       "    </tr>\n",
       "    <tr>\n",
       "      <th>moka</th>\n",
       "      <td>-0.131788</td>\n",
       "    </tr>\n",
       "  </tbody>\n",
       "</table>\n",
       "</div>"
      ],
      "text/plain": [
       "                 coef\n",
       "coffee      -0.795527\n",
       "grinder     -0.344137\n",
       "espresso    -0.253348\n",
       "bean        -0.205271\n",
       "v60         -0.193805\n",
       "machine     -0.192044\n",
       "pour        -0.176446\n",
       "aeropress   -0.151722\n",
       "moccamaster -0.139646\n",
       "moka        -0.131788"
      ]
     },
     "execution_count": 13,
     "metadata": {},
     "output_type": "execute_result"
    }
   ],
   "source": [
    "feature_coefs.sort_values(by='coef', ascending=True).head(10)"
   ]
  },
  {
   "cell_type": "markdown",
   "id": "stylish-poverty",
   "metadata": {},
   "source": [
    "Again, the words appearing here aren't surprising--coffee, grinder, bean, etc. What is interesting is the number of brand names that came up in the top 10: v60, aeropress, moccamaster, and moka all being brands. This may indicate that coffee in general has more brand loyalty and word of mouth advertising. "
   ]
  },
  {
   "cell_type": "markdown",
   "id": "announced-share",
   "metadata": {},
   "source": [
    "To look at the samples and how easily the model classified them, from the test set I'll put the titles, the true subreddit, the predicted subreddit, the predicted probabilities of being from r/coffee and r/tea, as well as a column showing the absolute difference between those two probabilities (where a high value indicates an easily predicted sample and a low value indicating a more difficult or ambiguous sample)."
   ]
  },
  {
   "cell_type": "code",
   "execution_count": 14,
   "id": "forward-floor",
   "metadata": {},
   "outputs": [],
   "source": [
    "preds = pd.DataFrame({\n",
    "    'title' : X_test, \n",
    "    'actual' : y_test, \n",
    "    'predicted' : logreg_pipe.predict(X_test),\n",
    "    'P(coffee)' : [i[0] for i in logreg_pipe.predict_proba(X_test)],\n",
    "    'P(tea)' : [i[1] for i in logreg_pipe.predict_proba(X_test)]})\n",
    "\n",
    "preds['diff'] = np.abs(preds['P(coffee)'] - preds['P(tea)'])"
   ]
  },
  {
   "cell_type": "code",
   "execution_count": 15,
   "id": "veterinary-packaging",
   "metadata": {},
   "outputs": [
    {
     "data": {
      "text/html": [
       "<div>\n",
       "<style scoped>\n",
       "    .dataframe tbody tr th:only-of-type {\n",
       "        vertical-align: middle;\n",
       "    }\n",
       "\n",
       "    .dataframe tbody tr th {\n",
       "        vertical-align: top;\n",
       "    }\n",
       "\n",
       "    .dataframe thead th {\n",
       "        text-align: right;\n",
       "    }\n",
       "</style>\n",
       "<table border=\"1\" class=\"dataframe\">\n",
       "  <thead>\n",
       "    <tr style=\"text-align: right;\">\n",
       "      <th></th>\n",
       "      <th>title</th>\n",
       "      <th>actual</th>\n",
       "      <th>predicted</th>\n",
       "      <th>P(coffee)</th>\n",
       "      <th>P(tea)</th>\n",
       "      <th>diff</th>\n",
       "    </tr>\n",
       "  </thead>\n",
       "  <tbody>\n",
       "    <tr>\n",
       "      <th>748</th>\n",
       "      <td>Harney &amp;amp; Sons English Breakfast Tea is so good. A lovely strong black tea with a smooth taste. I received it as a gift from my boss. What tea did you receive as a gift this year?</td>\n",
       "      <td>tea</td>\n",
       "      <td>tea</td>\n",
       "      <td>0.000055</td>\n",
       "      <td>0.999945</td>\n",
       "      <td>0.999889</td>\n",
       "    </tr>\n",
       "    <tr>\n",
       "      <th>3103</th>\n",
       "      <td>I just bought a new box for my tea bags and my wife bought me a couple sampler packs from Twinings and Stash Tea. Was very surprised and happy to find this one in the mix. I’m still new to being adventurous with my tea flavors but this one has been a great one.</td>\n",
       "      <td>tea</td>\n",
       "      <td>tea</td>\n",
       "      <td>0.000424</td>\n",
       "      <td>0.999576</td>\n",
       "      <td>0.999153</td>\n",
       "    </tr>\n",
       "    <tr>\n",
       "      <th>4048</th>\n",
       "      <td>Iced green tea and green tea ice cream at the Japanese Tea Garden in San Francisco</td>\n",
       "      <td>tea</td>\n",
       "      <td>tea</td>\n",
       "      <td>0.000451</td>\n",
       "      <td>0.999549</td>\n",
       "      <td>0.999098</td>\n",
       "    </tr>\n",
       "    <tr>\n",
       "      <th>2691</th>\n",
       "      <td>Every tea lover's dream: 1 kg of tea leaves or 100 bags of tea. Or both in my case!</td>\n",
       "      <td>tea</td>\n",
       "      <td>tea</td>\n",
       "      <td>0.000749</td>\n",
       "      <td>0.999251</td>\n",
       "      <td>0.998503</td>\n",
       "    </tr>\n",
       "    <tr>\n",
       "      <th>270</th>\n",
       "      <td>If I wanted to make my own mango, and peach &amp;amp; ginger teas: how much dried mango/peach&amp;amp;ginger should I add to the black tea base? I want it to be extremely fruit forward</td>\n",
       "      <td>tea</td>\n",
       "      <td>tea</td>\n",
       "      <td>0.001431</td>\n",
       "      <td>0.998569</td>\n",
       "      <td>0.997137</td>\n",
       "    </tr>\n",
       "    <tr>\n",
       "      <th>3809</th>\n",
       "      <td>Got myself a new teapot as an early Xmas gift ! Especially to enjoy my tea Advent calendar</td>\n",
       "      <td>tea</td>\n",
       "      <td>tea</td>\n",
       "      <td>0.001447</td>\n",
       "      <td>0.998553</td>\n",
       "      <td>0.997106</td>\n",
       "    </tr>\n",
       "    <tr>\n",
       "      <th>3848</th>\n",
       "      <td>Matcha Green Tea vs White Tea</td>\n",
       "      <td>tea</td>\n",
       "      <td>tea</td>\n",
       "      <td>0.001474</td>\n",
       "      <td>0.998526</td>\n",
       "      <td>0.997052</td>\n",
       "    </tr>\n",
       "    <tr>\n",
       "      <th>3060</th>\n",
       "      <td>This sub for me interested in Tea again, so i found my old cast iron Teapot. But the Tea i make in it tastes really metallic. Anyone know how to fix it?</td>\n",
       "      <td>tea</td>\n",
       "      <td>tea</td>\n",
       "      <td>0.001874</td>\n",
       "      <td>0.998126</td>\n",
       "      <td>0.996253</td>\n",
       "    </tr>\n",
       "    <tr>\n",
       "      <th>3291</th>\n",
       "      <td>What are some teas that taste similar to rooibos tea?</td>\n",
       "      <td>tea</td>\n",
       "      <td>tea</td>\n",
       "      <td>0.001910</td>\n",
       "      <td>0.998090</td>\n",
       "      <td>0.996181</td>\n",
       "    </tr>\n",
       "    <tr>\n",
       "      <th>4183</th>\n",
       "      <td>Coffee vs. Tea || My tea collection || Exotic tea &amp;amp; common tea type</td>\n",
       "      <td>tea</td>\n",
       "      <td>tea</td>\n",
       "      <td>0.001997</td>\n",
       "      <td>0.998003</td>\n",
       "      <td>0.996006</td>\n",
       "    </tr>\n",
       "  </tbody>\n",
       "</table>\n",
       "</div>"
      ],
      "text/plain": [
       "                                                                                                                                                                                                                                                                      title  \\\n",
       "748                                                                                  Harney &amp; Sons English Breakfast Tea is so good. A lovely strong black tea with a smooth taste. I received it as a gift from my boss. What tea did you receive as a gift this year?   \n",
       "3103  I just bought a new box for my tea bags and my wife bought me a couple sampler packs from Twinings and Stash Tea. Was very surprised and happy to find this one in the mix. I’m still new to being adventurous with my tea flavors but this one has been a great one.   \n",
       "4048                                                                                                                                                                                     Iced green tea and green tea ice cream at the Japanese Tea Garden in San Francisco   \n",
       "2691                                                                                                                                                                                    Every tea lover's dream: 1 kg of tea leaves or 100 bags of tea. Or both in my case!   \n",
       "270                                                                                        If I wanted to make my own mango, and peach &amp; ginger teas: how much dried mango/peach&amp;ginger should I add to the black tea base? I want it to be extremely fruit forward   \n",
       "3809                                                                                                                                                                             Got myself a new teapot as an early Xmas gift ! Especially to enjoy my tea Advent calendar   \n",
       "3848                                                                                                                                                                                                                                          Matcha Green Tea vs White Tea   \n",
       "3060                                                                                                               This sub for me interested in Tea again, so i found my old cast iron Teapot. But the Tea i make in it tastes really metallic. Anyone know how to fix it?   \n",
       "3291                                                                                                                                                                                                                  What are some teas that taste similar to rooibos tea?   \n",
       "4183                                                                                                                                                                                                Coffee vs. Tea || My tea collection || Exotic tea &amp; common tea type   \n",
       "\n",
       "     actual predicted  P(coffee)    P(tea)      diff  \n",
       "748     tea       tea   0.000055  0.999945  0.999889  \n",
       "3103    tea       tea   0.000424  0.999576  0.999153  \n",
       "4048    tea       tea   0.000451  0.999549  0.999098  \n",
       "2691    tea       tea   0.000749  0.999251  0.998503  \n",
       "270     tea       tea   0.001431  0.998569  0.997137  \n",
       "3809    tea       tea   0.001447  0.998553  0.997106  \n",
       "3848    tea       tea   0.001474  0.998526  0.997052  \n",
       "3060    tea       tea   0.001874  0.998126  0.996253  \n",
       "3291    tea       tea   0.001910  0.998090  0.996181  \n",
       "4183    tea       tea   0.001997  0.998003  0.996006  "
      ]
     },
     "execution_count": 15,
     "metadata": {},
     "output_type": "execute_result"
    }
   ],
   "source": [
    "pd.set_option('display.max_colwidth', None)\n",
    "preds.sort_values(by='P(coffee)').head(10)"
   ]
  },
  {
   "cell_type": "markdown",
   "id": "conventional-coating",
   "metadata": {},
   "source": [
    "The clearest r/tea titles seem to mostly contain multiple instances of the word 'tea.' "
   ]
  },
  {
   "cell_type": "code",
   "execution_count": 16,
   "id": "three-combine",
   "metadata": {},
   "outputs": [
    {
     "data": {
      "text/html": [
       "<div>\n",
       "<style scoped>\n",
       "    .dataframe tbody tr th:only-of-type {\n",
       "        vertical-align: middle;\n",
       "    }\n",
       "\n",
       "    .dataframe tbody tr th {\n",
       "        vertical-align: top;\n",
       "    }\n",
       "\n",
       "    .dataframe thead th {\n",
       "        text-align: right;\n",
       "    }\n",
       "</style>\n",
       "<table border=\"1\" class=\"dataframe\">\n",
       "  <thead>\n",
       "    <tr style=\"text-align: right;\">\n",
       "      <th></th>\n",
       "      <th>title</th>\n",
       "      <th>actual</th>\n",
       "      <th>predicted</th>\n",
       "      <th>P(coffee)</th>\n",
       "      <th>P(tea)</th>\n",
       "      <th>diff</th>\n",
       "    </tr>\n",
       "  </thead>\n",
       "  <tbody>\n",
       "    <tr>\n",
       "      <th>2988</th>\n",
       "      <td>can someone explain this? - Aeropress with Fellow Prismo filter small holes were clogged with dried coffee and it would not pour, but when added paper filter on top of prismo filter the coffee would pour....</td>\n",
       "      <td>Coffee</td>\n",
       "      <td>Coffee</td>\n",
       "      <td>0.999982</td>\n",
       "      <td>0.000018</td>\n",
       "      <td>0.999964</td>\n",
       "    </tr>\n",
       "    <tr>\n",
       "      <th>3196</th>\n",
       "      <td>This plastic cone filter from my cheap drip coffee machine fits my cheap pour over cup perfectly giving a priceless full-bodied coffee compared to the recommended paper filter.</td>\n",
       "      <td>Coffee</td>\n",
       "      <td>Coffee</td>\n",
       "      <td>0.999888</td>\n",
       "      <td>0.000112</td>\n",
       "      <td>0.999777</td>\n",
       "    </tr>\n",
       "    <tr>\n",
       "      <th>4096</th>\n",
       "      <td>COFFEE CUPS, COFFEE TYPE FOR COFFEE LOVERS. Espresso, Americano, Frappe, Cappuccino, AND Mocha.</td>\n",
       "      <td>Coffee</td>\n",
       "      <td>Coffee</td>\n",
       "      <td>0.999810</td>\n",
       "      <td>0.000190</td>\n",
       "      <td>0.999620</td>\n",
       "    </tr>\n",
       "    <tr>\n",
       "      <th>3705</th>\n",
       "      <td>Key to good crema? I recently changed to a breville espresso machine after using an automatic DēLonghi but struggle to get the same rich crema. Using the same beans and the grind is as fine as it goes almost.... Other tips?</td>\n",
       "      <td>Coffee</td>\n",
       "      <td>Coffee</td>\n",
       "      <td>0.999767</td>\n",
       "      <td>0.000233</td>\n",
       "      <td>0.999534</td>\n",
       "    </tr>\n",
       "    <tr>\n",
       "      <th>66</th>\n",
       "      <td>I want start making my coffee at home without a coffee maker. What is recommended to go about this process to make a good coffee?</td>\n",
       "      <td>Coffee</td>\n",
       "      <td>Coffee</td>\n",
       "      <td>0.999047</td>\n",
       "      <td>0.000953</td>\n",
       "      <td>0.998093</td>\n",
       "    </tr>\n",
       "    <tr>\n",
       "      <th>76</th>\n",
       "      <td>My mr coffee 5 cup programmable coffee maker is burning my coffee? It taste like dirt, how can I fix it?</td>\n",
       "      <td>Coffee</td>\n",
       "      <td>Coffee</td>\n",
       "      <td>0.998930</td>\n",
       "      <td>0.001070</td>\n",
       "      <td>0.997860</td>\n",
       "    </tr>\n",
       "    <tr>\n",
       "      <th>1230</th>\n",
       "      <td>I have a cheap Mr. Coffee drip maker, is it worth it to buy an expensive coffee grinder?</td>\n",
       "      <td>Coffee</td>\n",
       "      <td>Coffee</td>\n",
       "      <td>0.998887</td>\n",
       "      <td>0.001113</td>\n",
       "      <td>0.997775</td>\n",
       "    </tr>\n",
       "    <tr>\n",
       "      <th>1022</th>\n",
       "      <td>Can i use this salt grinder as a coffee grinder? Can't buy one right now. My other option is an old hand grinder.</td>\n",
       "      <td>Coffee</td>\n",
       "      <td>Coffee</td>\n",
       "      <td>0.998767</td>\n",
       "      <td>0.001233</td>\n",
       "      <td>0.997534</td>\n",
       "    </tr>\n",
       "    <tr>\n",
       "      <th>3350</th>\n",
       "      <td>Newbie question - Can I use any ground coffee for my espresso machine?</td>\n",
       "      <td>Coffee</td>\n",
       "      <td>Coffee</td>\n",
       "      <td>0.998629</td>\n",
       "      <td>0.001371</td>\n",
       "      <td>0.997259</td>\n",
       "    </tr>\n",
       "    <tr>\n",
       "      <th>4129</th>\n",
       "      <td>Coffee machine help? I recently got a Keurig coffee maker, but it was a gift and I'm unsure of the model; could someone point me to where I can get reusable cups for grinds for this?</td>\n",
       "      <td>Coffee</td>\n",
       "      <td>Coffee</td>\n",
       "      <td>0.998598</td>\n",
       "      <td>0.001402</td>\n",
       "      <td>0.997196</td>\n",
       "    </tr>\n",
       "  </tbody>\n",
       "</table>\n",
       "</div>"
      ],
      "text/plain": [
       "                                                                                                                                                                                                                                title  \\\n",
       "2988                  can someone explain this? - Aeropress with Fellow Prismo filter small holes were clogged with dried coffee and it would not pour, but when added paper filter on top of prismo filter the coffee would pour....   \n",
       "3196                                                 This plastic cone filter from my cheap drip coffee machine fits my cheap pour over cup perfectly giving a priceless full-bodied coffee compared to the recommended paper filter.   \n",
       "4096                                                                                                                                  COFFEE CUPS, COFFEE TYPE FOR COFFEE LOVERS. Espresso, Americano, Frappe, Cappuccino, AND Mocha.   \n",
       "3705  Key to good crema? I recently changed to a breville espresso machine after using an automatic DēLonghi but struggle to get the same rich crema. Using the same beans and the grind is as fine as it goes almost.... Other tips?   \n",
       "66                                                                                                  I want start making my coffee at home without a coffee maker. What is recommended to go about this process to make a good coffee?   \n",
       "76                                                                                                                           My mr coffee 5 cup programmable coffee maker is burning my coffee? It taste like dirt, how can I fix it?   \n",
       "1230                                                                                                                                         I have a cheap Mr. Coffee drip maker, is it worth it to buy an expensive coffee grinder?   \n",
       "1022                                                                                                                Can i use this salt grinder as a coffee grinder? Can't buy one right now. My other option is an old hand grinder.   \n",
       "3350                                                                                                                                                           Newbie question - Can I use any ground coffee for my espresso machine?   \n",
       "4129                                           Coffee machine help? I recently got a Keurig coffee maker, but it was a gift and I'm unsure of the model; could someone point me to where I can get reusable cups for grinds for this?   \n",
       "\n",
       "      actual predicted  P(coffee)    P(tea)      diff  \n",
       "2988  Coffee    Coffee   0.999982  0.000018  0.999964  \n",
       "3196  Coffee    Coffee   0.999888  0.000112  0.999777  \n",
       "4096  Coffee    Coffee   0.999810  0.000190  0.999620  \n",
       "3705  Coffee    Coffee   0.999767  0.000233  0.999534  \n",
       "66    Coffee    Coffee   0.999047  0.000953  0.998093  \n",
       "76    Coffee    Coffee   0.998930  0.001070  0.997860  \n",
       "1230  Coffee    Coffee   0.998887  0.001113  0.997775  \n",
       "1022  Coffee    Coffee   0.998767  0.001233  0.997534  \n",
       "3350  Coffee    Coffee   0.998629  0.001371  0.997259  \n",
       "4129  Coffee    Coffee   0.998598  0.001402  0.997196  "
      ]
     },
     "execution_count": 16,
     "metadata": {},
     "output_type": "execute_result"
    }
   ],
   "source": [
    "preds.sort_values(by='P(tea)').head(10)"
   ]
  },
  {
   "cell_type": "markdown",
   "id": "defined-healthcare",
   "metadata": {},
   "source": [
    "Similarly, the clearest r/Coffee titles seem to contain the word 'coffee' multiple times or several instances of words like 'espresso', 'grinder', or types of coffee. "
   ]
  },
  {
   "cell_type": "code",
   "execution_count": 17,
   "id": "massive-guest",
   "metadata": {},
   "outputs": [
    {
     "data": {
      "text/html": [
       "<div>\n",
       "<style scoped>\n",
       "    .dataframe tbody tr th:only-of-type {\n",
       "        vertical-align: middle;\n",
       "    }\n",
       "\n",
       "    .dataframe tbody tr th {\n",
       "        vertical-align: top;\n",
       "    }\n",
       "\n",
       "    .dataframe thead th {\n",
       "        text-align: right;\n",
       "    }\n",
       "</style>\n",
       "<table border=\"1\" class=\"dataframe\">\n",
       "  <thead>\n",
       "    <tr style=\"text-align: right;\">\n",
       "      <th></th>\n",
       "      <th>title</th>\n",
       "      <th>actual</th>\n",
       "      <th>predicted</th>\n",
       "      <th>P(coffee)</th>\n",
       "      <th>P(tea)</th>\n",
       "      <th>diff</th>\n",
       "    </tr>\n",
       "  </thead>\n",
       "  <tbody>\n",
       "    <tr>\n",
       "      <th>2553</th>\n",
       "      <td>What To Eat First</td>\n",
       "      <td>tea</td>\n",
       "      <td>Coffee</td>\n",
       "      <td>0.500569</td>\n",
       "      <td>0.499431</td>\n",
       "      <td>0.001139</td>\n",
       "    </tr>\n",
       "    <tr>\n",
       "      <th>3903</th>\n",
       "      <td>Interest in Espresso/Flair products</td>\n",
       "      <td>Coffee</td>\n",
       "      <td>Coffee</td>\n",
       "      <td>0.500569</td>\n",
       "      <td>0.499431</td>\n",
       "      <td>0.001139</td>\n",
       "    </tr>\n",
       "    <tr>\n",
       "      <th>4590</th>\n",
       "      <td>Dianhong with bergamot rind</td>\n",
       "      <td>tea</td>\n",
       "      <td>Coffee</td>\n",
       "      <td>0.500569</td>\n",
       "      <td>0.499431</td>\n",
       "      <td>0.001139</td>\n",
       "    </tr>\n",
       "    <tr>\n",
       "      <th>2812</th>\n",
       "      <td>GIVE ME COFEE</td>\n",
       "      <td>Coffee</td>\n",
       "      <td>Coffee</td>\n",
       "      <td>0.500569</td>\n",
       "      <td>0.499431</td>\n",
       "      <td>0.001139</td>\n",
       "    </tr>\n",
       "    <tr>\n",
       "      <th>2191</th>\n",
       "      <td>Thankful for this subreddit</td>\n",
       "      <td>Coffee</td>\n",
       "      <td>Coffee</td>\n",
       "      <td>0.500569</td>\n",
       "      <td>0.499431</td>\n",
       "      <td>0.001139</td>\n",
       "    </tr>\n",
       "    <tr>\n",
       "      <th>3735</th>\n",
       "      <td>My goodness this thing is loud.....</td>\n",
       "      <td>Coffee</td>\n",
       "      <td>Coffee</td>\n",
       "      <td>0.500569</td>\n",
       "      <td>0.499431</td>\n",
       "      <td>0.001139</td>\n",
       "    </tr>\n",
       "    <tr>\n",
       "      <th>1194</th>\n",
       "      <td>Malty flavor similar to aftertaste of pilsner</td>\n",
       "      <td>Coffee</td>\n",
       "      <td>Coffee</td>\n",
       "      <td>0.500569</td>\n",
       "      <td>0.499431</td>\n",
       "      <td>0.001139</td>\n",
       "    </tr>\n",
       "    <tr>\n",
       "      <th>313</th>\n",
       "      <td>Non-dairy cream substitute</td>\n",
       "      <td>tea</td>\n",
       "      <td>Coffee</td>\n",
       "      <td>0.500569</td>\n",
       "      <td>0.499431</td>\n",
       "      <td>0.001139</td>\n",
       "    </tr>\n",
       "    <tr>\n",
       "      <th>927</th>\n",
       "      <td>My pretty strainer didn’t work really well</td>\n",
       "      <td>tea</td>\n",
       "      <td>Coffee</td>\n",
       "      <td>0.500569</td>\n",
       "      <td>0.499431</td>\n",
       "      <td>0.001139</td>\n",
       "    </tr>\n",
       "    <tr>\n",
       "      <th>2107</th>\n",
       "      <td>Where can I buy more of this and can I get some more info on it</td>\n",
       "      <td>tea</td>\n",
       "      <td>Coffee</td>\n",
       "      <td>0.500569</td>\n",
       "      <td>0.499431</td>\n",
       "      <td>0.001139</td>\n",
       "    </tr>\n",
       "  </tbody>\n",
       "</table>\n",
       "</div>"
      ],
      "text/plain": [
       "                                                                title  actual  \\\n",
       "2553                                                What To Eat First     tea   \n",
       "3903                              Interest in Espresso/Flair products  Coffee   \n",
       "4590                                      Dianhong with bergamot rind     tea   \n",
       "2812                                                    GIVE ME COFEE  Coffee   \n",
       "2191                                      Thankful for this subreddit  Coffee   \n",
       "3735                              My goodness this thing is loud.....  Coffee   \n",
       "1194                    Malty flavor similar to aftertaste of pilsner  Coffee   \n",
       "313                                        Non-dairy cream substitute     tea   \n",
       "927                        My pretty strainer didn’t work really well     tea   \n",
       "2107  Where can I buy more of this and can I get some more info on it     tea   \n",
       "\n",
       "     predicted  P(coffee)    P(tea)      diff  \n",
       "2553    Coffee   0.500569  0.499431  0.001139  \n",
       "3903    Coffee   0.500569  0.499431  0.001139  \n",
       "4590    Coffee   0.500569  0.499431  0.001139  \n",
       "2812    Coffee   0.500569  0.499431  0.001139  \n",
       "2191    Coffee   0.500569  0.499431  0.001139  \n",
       "3735    Coffee   0.500569  0.499431  0.001139  \n",
       "1194    Coffee   0.500569  0.499431  0.001139  \n",
       "313     Coffee   0.500569  0.499431  0.001139  \n",
       "927     Coffee   0.500569  0.499431  0.001139  \n",
       "2107    Coffee   0.500569  0.499431  0.001139  "
      ]
     },
     "execution_count": 17,
     "metadata": {},
     "output_type": "execute_result"
    }
   ],
   "source": [
    "preds.sort_values(by='diff').head(10)"
   ]
  },
  {
   "cell_type": "markdown",
   "id": "ethical-scoop",
   "metadata": {},
   "source": [
    "Looking at the lowest difference values is a little bit more revealing. First off, it seems like all of these low difference samples ended up leaning just slightly into r/Coffee on the prediction, with a consistent probability across them. I would imagine that this may be the model defaulting to classifying samples with no important information it recognizes as being in the (slightly) more common class, just like our null model.\n",
    "\n",
    "We see some titles which just don't have many key words to grab ('What To Eat First', 'Thankful for this subreddit'), but also some that look like they should be easy to classify, but upon closer inspection, have misspellings or formattings that may have made them hard to recognize. "
   ]
  },
  {
   "cell_type": "markdown",
   "id": "asian-bankruptcy",
   "metadata": {},
   "source": [
    "First we can look at a sample where 'chamomile' is spelled incorrectly, with two Ls. "
   ]
  },
  {
   "cell_type": "code",
   "execution_count": 18,
   "id": "prescription-bowling",
   "metadata": {},
   "outputs": [
    {
     "data": {
      "text/plain": [
       "array([[0.50056947, 0.49943053]])"
      ]
     },
     "execution_count": 18,
     "metadata": {},
     "output_type": "execute_result"
    }
   ],
   "source": [
    "sample_2l = ['I have the weirdest feeling that chamomille and pineapple go together really well']\n",
    "logreg_pipe.predict_proba(sample_2l)"
   ]
  },
  {
   "cell_type": "code",
   "execution_count": 19,
   "id": "accessible-procedure",
   "metadata": {},
   "outputs": [
    {
     "data": {
      "text/plain": [
       "array([[0.33483933, 0.66516067]])"
      ]
     },
     "execution_count": 19,
     "metadata": {},
     "output_type": "execute_result"
    }
   ],
   "source": [
    "sample_1l = ['I have the weirdest feeling that chamomile and pineapple go together really well']\n",
    "logreg_pipe.predict_proba(sample_1l)"
   ]
  },
  {
   "cell_type": "markdown",
   "id": "proprietary-jonathan",
   "metadata": {},
   "source": [
    "Correcting the spelling pushes the prediction solidly into r/tea as expected.\n",
    "\n",
    "Next, it seems like the tokenizer was unable to process the slash between two words, as we've seen that 'espresso' is generally an important feature in classifying a sample as from r/Coffee. "
   ]
  },
  {
   "cell_type": "code",
   "execution_count": 20,
   "id": "burning-wyoming",
   "metadata": {},
   "outputs": [
    {
     "data": {
      "text/plain": [
       "array([[0.50056947, 0.49943053]])"
      ]
     },
     "execution_count": 20,
     "metadata": {},
     "output_type": "execute_result"
    }
   ],
   "source": [
    "sample_esp = ['Interest in Espresso/Flair products']\n",
    "logreg_pipe.predict_proba(sample_esp)"
   ]
  },
  {
   "cell_type": "code",
   "execution_count": 21,
   "id": "mediterranean-avatar",
   "metadata": {},
   "outputs": [
    {
     "data": {
      "text/plain": [
       "array([[0.86661357, 0.13338643]])"
      ]
     },
     "execution_count": 21,
     "metadata": {},
     "output_type": "execute_result"
    }
   ],
   "source": [
    "sample_esp = ['Interest in Espresso / Flair products']\n",
    "logreg_pipe.predict_proba(sample_esp)"
   ]
  },
  {
   "cell_type": "markdown",
   "id": "corporate-background",
   "metadata": {},
   "source": [
    "As expected, once the model is able to read the two words independently, the prediction moves from essentially a toss-up to very clearly being from r/Coffee. "
   ]
  },
  {
   "cell_type": "code",
   "execution_count": 22,
   "id": "danish-exploration",
   "metadata": {},
   "outputs": [
    {
     "data": {
      "image/png": "[encoded data removed]",
      "text/plain": [
       "<Figure size 432x288 with 2 Axes>"
      ]
     },
     "metadata": {
      "needs_background": "light"
     },
     "output_type": "display_data"
    }
   ],
   "source": [
    "plot_confusion_matrix(logreg_pipe, X_test, y_test, cmap='gist_gray');"
   ]
  },
  {
   "cell_type": "markdown",
   "id": "authentic-wrist",
   "metadata": {},
   "source": [
    "Like we saw above, the model is generally classifying more samples incorrectly as being from r/Coffee than as being from r/tea. Considering the size and quality of the data as well as the limitations of the natural language processing techniques, though, I'm fairly pleased with the model's ability to accurately classify. "
   ]
  }
 ],
 "metadata": {
  "kernelspec": {
   "display_name": "Python 3",
   "language": "python",
   "name": "python3"
  },
  "language_info": {
   "codemirror_mode": {
    "name": "ipython",
    "version": 3
   },
   "file_extension": ".py",
   "mimetype": "text/x-python",
   "name": "python",
   "nbconvert_exporter": "python",
   "pygments_lexer": "ipython3",
   "version": "3.7.9"
  }
 },
 "nbformat": 4,
 "nbformat_minor": 5
}
