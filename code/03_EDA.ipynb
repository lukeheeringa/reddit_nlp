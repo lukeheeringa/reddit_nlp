{
 "cells": [
  {
   "cell_type": "markdown",
   "id": "mental-trial",
   "metadata": {},
   "source": [
    "#### Step 3: Exploratory Data Analysis"
   ]
  },
  {
   "cell_type": "code",
   "execution_count": 1,
   "id": "dependent-serbia",
   "metadata": {},
   "outputs": [],
   "source": [
    "import pandas as pd\n",
    "import matplotlib.pyplot as plt\n",
    "import seaborn as sns"
   ]
  },
  {
   "cell_type": "markdown",
   "id": "incomplete-reset",
   "metadata": {},
   "source": [
    "Read in the post dataset"
   ]
  },
  {
   "cell_type": "code",
   "execution_count": 2,
   "id": "funky-entry",
   "metadata": {},
   "outputs": [],
   "source": [
    "data = pd.read_csv('../data/cleaned_posts.csv')"
   ]
  },
  {
   "cell_type": "code",
   "execution_count": 3,
   "id": "studied-delight",
   "metadata": {},
   "outputs": [
    {
     "name": "stdout",
     "output_type": "stream",
     "text": [
      "<class 'pandas.core.frame.DataFrame'>\n",
      "RangeIndex: 4607 entries, 0 to 4606\n",
      "Data columns (total 2 columns):\n",
      " #   Column     Non-Null Count  Dtype \n",
      "---  ------     --------------  ----- \n",
      " 0   subreddit  4607 non-null   object\n",
      " 1   title      4607 non-null   object\n",
      "dtypes: object(2)\n",
      "memory usage: 72.1+ KB\n"
     ]
    }
   ],
   "source": [
    "data.info()"
   ]
  },
  {
   "cell_type": "markdown",
   "id": "indian-viking",
   "metadata": {},
   "source": [
    "No null values for titles. In general, I got very lucky that the data I collected required little to no cleaning before being ready to use. "
   ]
  },
  {
   "cell_type": "markdown",
   "id": "exempt-rainbow",
   "metadata": {},
   "source": [
    "Here I'm calculating the length of the titles in characters and in words. "
   ]
  },
  {
   "cell_type": "code",
   "execution_count": 4,
   "id": "little-today",
   "metadata": {},
   "outputs": [],
   "source": [
    "data['length'] = data['title'].str.len()"
   ]
  },
  {
   "cell_type": "code",
   "execution_count": 5,
   "id": "sonic-alloy",
   "metadata": {},
   "outputs": [],
   "source": [
    "data['word_count'] = data['title'].str.count(' ') + 1"
   ]
  },
  {
   "cell_type": "code",
   "execution_count": 6,
   "id": "changed-length",
   "metadata": {},
   "outputs": [
    {
     "data": {
      "text/html": [
       "<div>\n",
       "<style scoped>\n",
       "    .dataframe tbody tr th:only-of-type {\n",
       "        vertical-align: middle;\n",
       "    }\n",
       "\n",
       "    .dataframe tbody tr th {\n",
       "        vertical-align: top;\n",
       "    }\n",
       "\n",
       "    .dataframe thead th {\n",
       "        text-align: right;\n",
       "    }\n",
       "</style>\n",
       "<table border=\"1\" class=\"dataframe\">\n",
       "  <thead>\n",
       "    <tr style=\"text-align: right;\">\n",
       "      <th></th>\n",
       "      <th>length</th>\n",
       "      <th>word_count</th>\n",
       "    </tr>\n",
       "  </thead>\n",
       "  <tbody>\n",
       "    <tr>\n",
       "      <th>count</th>\n",
       "      <td>4607.000000</td>\n",
       "      <td>4607.000000</td>\n",
       "    </tr>\n",
       "    <tr>\n",
       "      <th>mean</th>\n",
       "      <td>55.485783</td>\n",
       "      <td>9.944649</td>\n",
       "    </tr>\n",
       "    <tr>\n",
       "      <th>std</th>\n",
       "      <td>43.828537</td>\n",
       "      <td>8.318075</td>\n",
       "    </tr>\n",
       "    <tr>\n",
       "      <th>min</th>\n",
       "      <td>1.000000</td>\n",
       "      <td>1.000000</td>\n",
       "    </tr>\n",
       "    <tr>\n",
       "      <th>25%</th>\n",
       "      <td>28.000000</td>\n",
       "      <td>5.000000</td>\n",
       "    </tr>\n",
       "    <tr>\n",
       "      <th>50%</th>\n",
       "      <td>43.000000</td>\n",
       "      <td>7.000000</td>\n",
       "    </tr>\n",
       "    <tr>\n",
       "      <th>75%</th>\n",
       "      <td>68.000000</td>\n",
       "      <td>12.000000</td>\n",
       "    </tr>\n",
       "    <tr>\n",
       "      <th>max</th>\n",
       "      <td>300.000000</td>\n",
       "      <td>60.000000</td>\n",
       "    </tr>\n",
       "  </tbody>\n",
       "</table>\n",
       "</div>"
      ],
      "text/plain": [
       "            length   word_count\n",
       "count  4607.000000  4607.000000\n",
       "mean     55.485783     9.944649\n",
       "std      43.828537     8.318075\n",
       "min       1.000000     1.000000\n",
       "25%      28.000000     5.000000\n",
       "50%      43.000000     7.000000\n",
       "75%      68.000000    12.000000\n",
       "max     300.000000    60.000000"
      ]
     },
     "execution_count": 6,
     "metadata": {},
     "output_type": "execute_result"
    }
   ],
   "source": [
    "data.describe()"
   ]
  },
  {
   "cell_type": "markdown",
   "id": "taken-guatemala",
   "metadata": {},
   "source": [
    "Both counts seem promising. I think that the majority of titles being between 5 and 12 words is good, as there will be enough words to lock onto while still being mostly short enough that the majority of the words should be informative rather than noise. "
   ]
  },
  {
   "cell_type": "markdown",
   "id": "absent-nebraska",
   "metadata": {},
   "source": [
    "First I'm going to look at the distribution of word and character counts in titles across the two subreddits."
   ]
  },
  {
   "cell_type": "code",
   "execution_count": 7,
   "id": "legitimate-queensland",
   "metadata": {},
   "outputs": [
    {
     "data": {
      "image/png": "[encoded data removed]",
      "text/plain": [
       "<Figure size 432x288 with 1 Axes>"
      ]
     },
     "metadata": {
      "needs_background": "light"
     },
     "output_type": "display_data"
    }
   ],
   "source": [
    "sns.histplot(data[data['subreddit'] == 'Coffee']['word_count'], binwidth=1)\n",
    "plt.xlim(0, 60)\n",
    "plt.ylim(0, 300)\n",
    "plt.xlabel('Length of Title (Words)')\n",
    "plt.ylabel('Occurences')\n",
    "plt.title('Number of Words in r/Coffee Post Titles')\n",
    "plt.show();"
   ]
  },
  {
   "cell_type": "code",
   "execution_count": 8,
   "id": "technological-microphone",
   "metadata": {},
   "outputs": [
    {
     "data": {
      "image/png": "[encoded data removed]",
      "text/plain": [
       "<Figure size 432x288 with 1 Axes>"
      ]
     },
     "metadata": {
      "needs_background": "light"
     },
     "output_type": "display_data"
    }
   ],
   "source": [
    "sns.histplot(data[data['subreddit'] == 'tea']['word_count'], binwidth=1)\n",
    "plt.xlim(0, 60)\n",
    "plt.ylim(0, 300)\n",
    "plt.xlabel('Length in Title (Words)')\n",
    "plt.ylabel('Occurences')\n",
    "plt.title('Number of Words in r/tea Post Titles')\n",
    "plt.show();"
   ]
  },
  {
   "cell_type": "markdown",
   "id": "composite-shaft",
   "metadata": {},
   "source": [
    "The word count distributions in r/tea and r/Coffee appear very similar, both approximately log-normal. The count in r/tea may have slightly higher variance. "
   ]
  },
  {
   "cell_type": "code",
   "execution_count": 9,
   "id": "recognized-entry",
   "metadata": {},
   "outputs": [
    {
     "data": {
      "image/png": "[encoded data removed]",
      "text/plain": [
       "<Figure size 432x288 with 1 Axes>"
      ]
     },
     "metadata": {
      "needs_background": "light"
     },
     "output_type": "display_data"
    }
   ],
   "source": [
    "sns.histplot(data[data['subreddit'] == 'Coffee']['length'], binwidth=5)\n",
    "plt.xlim(0, 300)\n",
    "plt.ylim(0, 300)\n",
    "plt.xlabel('Length of Title (Characters)')\n",
    "plt.ylabel('Occurences')\n",
    "plt.title('Length of r/Coffee Post Titles')\n",
    "plt.show();"
   ]
  },
  {
   "cell_type": "code",
   "execution_count": 10,
   "id": "initial-underwear",
   "metadata": {},
   "outputs": [
    {
     "data": {
      "image/png": "[encoded data removed]",
      "text/plain": [
       "<Figure size 432x288 with 1 Axes>"
      ]
     },
     "metadata": {
      "needs_background": "light"
     },
     "output_type": "display_data"
    }
   ],
   "source": [
    "sns.histplot(data[data['subreddit'] == 'tea']['length'], binwidth=5)\n",
    "plt.xlim(0, 300)\n",
    "plt.ylim(0, 300)\n",
    "plt.xlabel('Length of Title (Characters)')\n",
    "plt.ylabel('Occurences')\n",
    "plt.title('Length of r/tea Post Titles')\n",
    "plt.show();"
   ]
  },
  {
   "cell_type": "markdown",
   "id": "satellite-amsterdam",
   "metadata": {},
   "source": [
    "The distributions in character length seem even more similar than the word count distributions, and again both look approximately log-normal."
   ]
  },
  {
   "cell_type": "markdown",
   "id": "south-blank",
   "metadata": {},
   "source": [
    "In building a classification model, the samples that most worry me are definitely the shortest ones, so I decided to take a look at some of the absolute shortest to see how big of an impact they might have."
   ]
  },
  {
   "cell_type": "code",
   "execution_count": 11,
   "id": "unable-payment",
   "metadata": {},
   "outputs": [
    {
     "data": {
      "text/html": [
       "<div>\n",
       "<style scoped>\n",
       "    .dataframe tbody tr th:only-of-type {\n",
       "        vertical-align: middle;\n",
       "    }\n",
       "\n",
       "    .dataframe tbody tr th {\n",
       "        vertical-align: top;\n",
       "    }\n",
       "\n",
       "    .dataframe thead th {\n",
       "        text-align: right;\n",
       "    }\n",
       "</style>\n",
       "<table border=\"1\" class=\"dataframe\">\n",
       "  <thead>\n",
       "    <tr style=\"text-align: right;\">\n",
       "      <th></th>\n",
       "      <th>subreddit</th>\n",
       "      <th>title</th>\n",
       "      <th>length</th>\n",
       "      <th>word_count</th>\n",
       "    </tr>\n",
       "  </thead>\n",
       "  <tbody>\n",
       "    <tr>\n",
       "      <th>760</th>\n",
       "      <td>tea</td>\n",
       "      <td>.</td>\n",
       "      <td>1</td>\n",
       "      <td>1</td>\n",
       "    </tr>\n",
       "    <tr>\n",
       "      <th>2627</th>\n",
       "      <td>Coffee</td>\n",
       "      <td>Si</td>\n",
       "      <td>2</td>\n",
       "      <td>1</td>\n",
       "    </tr>\n",
       "    <tr>\n",
       "      <th>3336</th>\n",
       "      <td>Coffee</td>\n",
       "      <td>No</td>\n",
       "      <td>2</td>\n",
       "      <td>1</td>\n",
       "    </tr>\n",
       "    <tr>\n",
       "      <th>4280</th>\n",
       "      <td>Coffee</td>\n",
       "      <td>👀☕</td>\n",
       "      <td>2</td>\n",
       "      <td>1</td>\n",
       "    </tr>\n",
       "    <tr>\n",
       "      <th>414</th>\n",
       "      <td>tea</td>\n",
       "      <td>Oh</td>\n",
       "      <td>2</td>\n",
       "      <td>1</td>\n",
       "    </tr>\n",
       "    <tr>\n",
       "      <th>612</th>\n",
       "      <td>tea</td>\n",
       "      <td>Tea</td>\n",
       "      <td>3</td>\n",
       "      <td>1</td>\n",
       "    </tr>\n",
       "    <tr>\n",
       "      <th>148</th>\n",
       "      <td>Coffee</td>\n",
       "      <td>New</td>\n",
       "      <td>3</td>\n",
       "      <td>1</td>\n",
       "    </tr>\n",
       "    <tr>\n",
       "      <th>4372</th>\n",
       "      <td>tea</td>\n",
       "      <td>🤣🤣🤣🤣</td>\n",
       "      <td>4</td>\n",
       "      <td>1</td>\n",
       "    </tr>\n",
       "    <tr>\n",
       "      <th>2573</th>\n",
       "      <td>Coffee</td>\n",
       "      <td>Mmmm</td>\n",
       "      <td>4</td>\n",
       "      <td>1</td>\n",
       "    </tr>\n",
       "    <tr>\n",
       "      <th>951</th>\n",
       "      <td>tea</td>\n",
       "      <td>Bulk</td>\n",
       "      <td>4</td>\n",
       "      <td>1</td>\n",
       "    </tr>\n",
       "    <tr>\n",
       "      <th>3287</th>\n",
       "      <td>tea</td>\n",
       "      <td>Big F</td>\n",
       "      <td>5</td>\n",
       "      <td>2</td>\n",
       "    </tr>\n",
       "    <tr>\n",
       "      <th>1041</th>\n",
       "      <td>Coffee</td>\n",
       "      <td>best?</td>\n",
       "      <td>5</td>\n",
       "      <td>1</td>\n",
       "    </tr>\n",
       "    <tr>\n",
       "      <th>2351</th>\n",
       "      <td>tea</td>\n",
       "      <td>Oteas</td>\n",
       "      <td>5</td>\n",
       "      <td>1</td>\n",
       "    </tr>\n",
       "    <tr>\n",
       "      <th>4211</th>\n",
       "      <td>tea</td>\n",
       "      <td>Rishi</td>\n",
       "      <td>5</td>\n",
       "      <td>1</td>\n",
       "    </tr>\n",
       "    <tr>\n",
       "      <th>3576</th>\n",
       "      <td>Coffee</td>\n",
       "      <td>juice</td>\n",
       "      <td>5</td>\n",
       "      <td>1</td>\n",
       "    </tr>\n",
       "    <tr>\n",
       "      <th>1873</th>\n",
       "      <td>tea</td>\n",
       "      <td>Sunday</td>\n",
       "      <td>6</td>\n",
       "      <td>1</td>\n",
       "    </tr>\n",
       "    <tr>\n",
       "      <th>3343</th>\n",
       "      <td>Coffee</td>\n",
       "      <td>Chippi</td>\n",
       "      <td>6</td>\n",
       "      <td>1</td>\n",
       "    </tr>\n",
       "    <tr>\n",
       "      <th>2882</th>\n",
       "      <td>tea</td>\n",
       "      <td>Oolong</td>\n",
       "      <td>6</td>\n",
       "      <td>1</td>\n",
       "    </tr>\n",
       "    <tr>\n",
       "      <th>4358</th>\n",
       "      <td>tea</td>\n",
       "      <td>design</td>\n",
       "      <td>6</td>\n",
       "      <td>1</td>\n",
       "    </tr>\n",
       "    <tr>\n",
       "      <th>4085</th>\n",
       "      <td>Coffee</td>\n",
       "      <td>Ops...</td>\n",
       "      <td>6</td>\n",
       "      <td>1</td>\n",
       "    </tr>\n",
       "    <tr>\n",
       "      <th>838</th>\n",
       "      <td>Coffee</td>\n",
       "      <td>coffee</td>\n",
       "      <td>6</td>\n",
       "      <td>1</td>\n",
       "    </tr>\n",
       "    <tr>\n",
       "      <th>472</th>\n",
       "      <td>tea</td>\n",
       "      <td>New mug</td>\n",
       "      <td>7</td>\n",
       "      <td>2</td>\n",
       "    </tr>\n",
       "    <tr>\n",
       "      <th>576</th>\n",
       "      <td>tea</td>\n",
       "      <td>Poggers</td>\n",
       "      <td>7</td>\n",
       "      <td>1</td>\n",
       "    </tr>\n",
       "    <tr>\n",
       "      <th>2186</th>\n",
       "      <td>tea</td>\n",
       "      <td>Teasenz</td>\n",
       "      <td>7</td>\n",
       "      <td>1</td>\n",
       "    </tr>\n",
       "    <tr>\n",
       "      <th>629</th>\n",
       "      <td>Coffee</td>\n",
       "      <td>Osmosis</td>\n",
       "      <td>7</td>\n",
       "      <td>1</td>\n",
       "    </tr>\n",
       "  </tbody>\n",
       "</table>\n",
       "</div>"
      ],
      "text/plain": [
       "     subreddit    title  length  word_count\n",
       "760        tea        .       1           1\n",
       "2627    Coffee       Si       2           1\n",
       "3336    Coffee       No       2           1\n",
       "4280    Coffee       👀☕       2           1\n",
       "414        tea       Oh       2           1\n",
       "612        tea      Tea       3           1\n",
       "148     Coffee      New       3           1\n",
       "4372       tea     🤣🤣🤣🤣       4           1\n",
       "2573    Coffee     Mmmm       4           1\n",
       "951        tea     Bulk       4           1\n",
       "3287       tea    Big F       5           2\n",
       "1041    Coffee    best?       5           1\n",
       "2351       tea    Oteas       5           1\n",
       "4211       tea    Rishi       5           1\n",
       "3576    Coffee    juice       5           1\n",
       "1873       tea   Sunday       6           1\n",
       "3343    Coffee   Chippi       6           1\n",
       "2882       tea   Oolong       6           1\n",
       "4358       tea   design       6           1\n",
       "4085    Coffee   Ops...       6           1\n",
       "838     Coffee   coffee       6           1\n",
       "472        tea  New mug       7           2\n",
       "576        tea  Poggers       7           1\n",
       "2186       tea  Teasenz       7           1\n",
       "629     Coffee  Osmosis       7           1"
      ]
     },
     "execution_count": 11,
     "metadata": {},
     "output_type": "execute_result"
    }
   ],
   "source": [
    "data.sort_values(by='length').head(25)"
   ]
  },
  {
   "cell_type": "markdown",
   "id": "great-tracy",
   "metadata": {},
   "source": [
    "Obviously samples like these could be hard to blindly classify, but even at this level there are several that will likely train or test well, too--posts with titles of only a single word, but that word being something clearly identifiable like \"oolong,\" or, obviously, \"coffee\" and \"tea.\" "
   ]
  },
  {
   "cell_type": "markdown",
   "id": "secondary-graph",
   "metadata": {},
   "source": [
    "To get a look at the words that are coming up in titles across the subreddits, I'll use a CountVectorizer to get simple counts without any stemming or lemmatization. "
   ]
  },
  {
   "cell_type": "code",
   "execution_count": 12,
   "id": "suffering-stuff",
   "metadata": {},
   "outputs": [],
   "source": [
    "from sklearn.feature_extraction.text import CountVectorizer"
   ]
  },
  {
   "cell_type": "markdown",
   "id": "wicked-agriculture",
   "metadata": {},
   "source": [
    "I will use the stop words setting to exclude common words that don't provide any context."
   ]
  },
  {
   "cell_type": "code",
   "execution_count": 13,
   "id": "attempted-smile",
   "metadata": {},
   "outputs": [],
   "source": [
    "cvect = CountVectorizer(stop_words='english')"
   ]
  },
  {
   "cell_type": "code",
   "execution_count": 14,
   "id": "included-monaco",
   "metadata": {},
   "outputs": [],
   "source": [
    "X = data['title']"
   ]
  },
  {
   "cell_type": "code",
   "execution_count": 15,
   "id": "digital-revision",
   "metadata": {},
   "outputs": [],
   "source": [
    "vect = cvect.fit_transform(X)"
   ]
  },
  {
   "cell_type": "markdown",
   "id": "earlier-metallic",
   "metadata": {},
   "source": [
    "After transforming the data, I'll put it in a dataframe for easier viewing. "
   ]
  },
  {
   "cell_type": "code",
   "execution_count": 16,
   "id": "focal-lloyd",
   "metadata": {},
   "outputs": [],
   "source": [
    "df = pd.DataFrame(vect.toarray(), columns=cvect.get_feature_names())"
   ]
  },
  {
   "cell_type": "markdown",
   "id": "every-struggle",
   "metadata": {},
   "source": [
    "I will then merge the vectorized array with the subreddit column to explore which words correlate with each subreddit. "
   ]
  },
  {
   "cell_type": "code",
   "execution_count": 17,
   "id": "abandoned-possibility",
   "metadata": {},
   "outputs": [],
   "source": [
    "df_reddit = pd.merge(data['subreddit'], df, left_index=True, right_index=True)"
   ]
  },
  {
   "cell_type": "markdown",
   "id": "sublime-triangle",
   "metadata": {},
   "source": [
    "By transposing the dataframe I can look at each word as an index value and sum across the whole sample, then add a column combining the counts across the two subreddits. "
   ]
  },
  {
   "cell_type": "code",
   "execution_count": 18,
   "id": "incorrect-reflection",
   "metadata": {},
   "outputs": [],
   "source": [
    "counts = df_reddit.groupby(by='subreddit_x').sum().T\n",
    "counts['total'] = counts['Coffee'] + counts['tea']"
   ]
  },
  {
   "cell_type": "markdown",
   "id": "polyphonic-intensity",
   "metadata": {},
   "source": [
    "The top ten most common words on r/Coffee:"
   ]
  },
  {
   "cell_type": "code",
   "execution_count": 19,
   "id": "impressed-nightmare",
   "metadata": {},
   "outputs": [
    {
     "data": {
      "text/plain": [
       "coffee      944\n",
       "grinder     209\n",
       "espresso    156\n",
       "machine     117\n",
       "help        111\n",
       "new         109\n",
       "beans        95\n",
       "brew         94\n",
       "best         87\n",
       "good         87\n",
       "Name: Coffee, dtype: int64"
      ]
     },
     "execution_count": 19,
     "metadata": {},
     "output_type": "execute_result"
    }
   ],
   "source": [
    "top_coffee_words = df_reddit.groupby(by='subreddit_x').sum().T.sort_values(\n",
    "    by='Coffee', ascending=False)['Coffee']\n",
    "top_coffee_words.head(10)"
   ]
  },
  {
   "cell_type": "markdown",
   "id": "changing-genre",
   "metadata": {},
   "source": [
    "And the top ten most common words on r/tea:"
   ]
  },
  {
   "cell_type": "code",
   "execution_count": 20,
   "id": "ethical-mills",
   "metadata": {},
   "outputs": [
    {
     "data": {
      "text/plain": [
       "tea          1412\n",
       "new           151\n",
       "cup           134\n",
       "green         111\n",
       "teas          105\n",
       "christmas      98\n",
       "got            92\n",
       "matcha         87\n",
       "like           83\n",
       "teapot         83\n",
       "Name: tea, dtype: int64"
      ]
     },
     "execution_count": 20,
     "metadata": {},
     "output_type": "execute_result"
    }
   ],
   "source": [
    "top_tea_words = df_reddit.groupby(by='subreddit_x').sum().T.sort_values(\n",
    "    by='tea', ascending=False)['tea']\n",
    "top_tea_words.head(10)"
   ]
  },
  {
   "cell_type": "markdown",
   "id": "subjective-burning",
   "metadata": {},
   "source": [
    "Unsurprising to see \"coffee\" and \"tea\" as the most common words in their respective subreddits. Any samples including those will likely be easy to classify. There does seem to be some amount of overlap in the other top words, though."
   ]
  },
  {
   "cell_type": "markdown",
   "id": "downtown-monster",
   "metadata": {},
   "source": [
    "Here I can take a look at the top ten most common words across the two subreddits while comparing if they are more common in one or the other:"
   ]
  },
  {
   "cell_type": "code",
   "execution_count": 21,
   "id": "shared-lecture",
   "metadata": {},
   "outputs": [
    {
     "data": {
      "image/png": "[encoded data removed]",
      "text/plain": [
       "<Figure size 432x288 with 1 Axes>"
      ]
     },
     "metadata": {
      "needs_background": "light"
     },
     "output_type": "display_data"
    }
   ],
   "source": [
    "counts.sort_values(by='total', ascending=False).head(10).drop(\n",
    "    columns='total').plot(kind='bar')\n",
    "plt.title('Most Common Words by Subreddit')\n",
    "plt.legend(title='subreddit')\n",
    "plt.ylabel('Occurences')\n",
    "plt.xticks(rotation=45)\n",
    "plt.show()"
   ]
  },
  {
   "cell_type": "markdown",
   "id": "funky-kenya",
   "metadata": {},
   "source": [
    "It seems like \"tea\" and \"coffee\" still obviously dominate, and are much better represented in their home subreddits. This isn't novel information, so let's remove them to get a better look:"
   ]
  },
  {
   "cell_type": "code",
   "execution_count": 22,
   "id": "smart-particle",
   "metadata": {},
   "outputs": [
    {
     "data": {
      "image/png": "[encoded data removed]",
      "text/plain": [
       "<Figure size 432x288 with 1 Axes>"
      ]
     },
     "metadata": {
      "needs_background": "light"
     },
     "output_type": "display_data"
    }
   ],
   "source": [
    "counts.sort_values(by='total', ascending=False).head(12).drop(\n",
    "    columns='total').drop(labels=['coffee', 'tea']).plot(kind='bar')\n",
    "plt.title('Most Common Words by Subreddit')\n",
    "plt.legend(title='subreddit')\n",
    "plt.ylabel('Occurences')\n",
    "plt.xticks(rotation=45)\n",
    "plt.show()"
   ]
  },
  {
   "cell_type": "markdown",
   "id": "clinical-liquid",
   "metadata": {},
   "source": [
    "Here we start to see a lot more words with significant subreddit overlap, common terms like \"new,\" \"cup,\" and \"like\" will probably not be very useful features in classification. Additionally, with the time period that the posts were pulled from, it's unsurprising to see \"christmas\" among the top words. Thankfully there do seem to be a couple more easily recognizable words like \"grinder,\" especially for r/Coffee. "
   ]
  }
 ],
 "metadata": {
  "kernelspec": {
   "display_name": "Python 3",
   "language": "python",
   "name": "python3"
  },
  "language_info": {
   "codemirror_mode": {
    "name": "ipython",
    "version": 3
   },
   "file_extension": ".py",
   "mimetype": "text/x-python",
   "name": "python",
   "nbconvert_exporter": "python",
   "pygments_lexer": "ipython3",
   "version": "3.7.9"
  }
 },
 "nbformat": 4,
 "nbformat_minor": 5
}
